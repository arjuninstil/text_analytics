{
 "cells": [
  {
   "cell_type": "markdown",
   "metadata": {},
   "source": [
    "# Introduction to text analysis IX #"
   ]
  },
  {
   "cell_type": "markdown",
   "metadata": {},
   "source": [
    "### text clustering ###"
   ]
  },
  {
   "cell_type": "code",
   "execution_count": 1,
   "metadata": {},
   "outputs": [
    {
     "name": "stdout",
     "output_type": "stream",
     "text": [
      "Populating the interactive namespace from numpy and matplotlib\n"
     ]
    }
   ],
   "source": [
    "import pickle\n",
    "import string\n",
    "import matplotlib.pyplot as plt\n",
    "%pylab inline"
   ]
  },
  {
   "cell_type": "code",
   "execution_count": 2,
   "metadata": {
    "collapsed": true
   },
   "outputs": [],
   "source": [
    "\n",
    "from nltk.corpus import stopwords\n",
    "from nltk.tokenize import sent_tokenize, word_tokenize\n",
    "import re"
   ]
  },
  {
   "cell_type": "code",
   "execution_count": 3,
   "metadata": {
    "collapsed": true
   },
   "outputs": [],
   "source": [
    "from sklearn.feature_extraction.text import TfidfVectorizer, CountVectorizer\n",
    "from sklearn.decomposition import NMF, LatentDirichletAllocation"
   ]
  },
  {
   "cell_type": "code",
   "execution_count": 4,
   "metadata": {
    "collapsed": true
   },
   "outputs": [],
   "source": [
    "from sklearn.datasets import fetch_20newsgroups"
   ]
  },
  {
   "cell_type": "code",
   "execution_count": 5,
   "metadata": {
    "collapsed": true
   },
   "outputs": [],
   "source": [
    "stops_it = stopwords.words('italian')\n",
    "stops_en = stopwords.words('english')\n",
    "\n",
    "translator = str.maketrans(' ', ' ', string.punctuation) ## remove the punctuation"
   ]
  },
  {
   "cell_type": "code",
   "execution_count": 6,
   "metadata": {},
   "outputs": [
    {
     "name": "stdout",
     "output_type": "stream",
     "text": [
      "11314\n"
     ]
    }
   ],
   "source": [
    "newsgroups = fetch_20newsgroups(remove=('headers', 'footers', 'quotes'))\n",
    "docs_raw = newsgroups.data\n",
    "print(len(docs_raw))"
   ]
  },
  {
   "cell_type": "markdown",
   "metadata": {},
   "source": [
    "** save the data for future use **"
   ]
  },
  {
   "cell_type": "code",
   "execution_count": 7,
   "metadata": {
    "collapsed": true
   },
   "outputs": [],
   "source": [
    "pickle.dump(docs_raw,open(\"20news.pickle\",\"wb\"))"
   ]
  },
  {
   "cell_type": "markdown",
   "metadata": {},
   "source": [
    "** functions for text treatment **"
   ]
  },
  {
   "cell_type": "code",
   "execution_count": 8,
   "metadata": {
    "collapsed": true
   },
   "outputs": [],
   "source": [
    "def minimumSize(tokens,llen = 2):\n",
    "    ## remove words smaller than llen chars\n",
    "    tks = []\n",
    "    for t in tokens:\n",
    "        if(len(t) > llen):\n",
    "            tks.append(t)\n",
    "    return tks\n",
    "\n",
    "def removeStops(tokens,stops = stops_it):\n",
    "    # remove stop words\n",
    "    remains = []\n",
    "    for t in tokens:\n",
    "        if(t not in stops):\n",
    "            remains.append(t)\n",
    "    return remains\n",
    "\n",
    "def processText(text):\n",
    "    ## tokenizer with stop words removal and minimum size \n",
    "    tks = word_tokenize(text)\n",
    "    tks = [t.translate(translator) for t in tks] ## remove the punctuation\n",
    "    tks = minimumSize(tks)\n",
    "    tks = removeStops(tks,stops_en)\n",
    "    return tks"
   ]
  },
  {
   "cell_type": "code",
   "execution_count": 9,
   "metadata": {
    "collapsed": true
   },
   "outputs": [],
   "source": [
    "n_features = 1000 \n",
    "tfidf_vectorizer = TfidfVectorizer(max_df=0.95, min_df=2,\n",
    "                                   max_features=n_features,tokenizer=processText)"
   ]
  },
  {
   "cell_type": "code",
   "execution_count": 10,
   "metadata": {
    "collapsed": true
   },
   "outputs": [],
   "source": [
    "corpus = docs_raw[0:1000]\n"
   ]
  },
  {
   "cell_type": "code",
   "execution_count": 11,
   "metadata": {
    "collapsed": true
   },
   "outputs": [],
   "source": [
    "\n",
    "#tfidf = tfidf_vectorizer.fit_transform(corpus)\n",
    "tfidf = tfidf_vectorizer.fit_transform(corpus)"
   ]
  },
  {
   "cell_type": "markdown",
   "metadata": {},
   "source": [
    "** from the tfdif to the similarity of the documents **"
   ]
  },
  {
   "cell_type": "code",
   "execution_count": 26,
   "metadata": {
    "collapsed": true
   },
   "outputs": [],
   "source": [
    "pairwise_similarity = tfidf * tfidf.T ## scalar product"
   ]
  },
  {
   "cell_type": "code",
   "execution_count": 27,
   "metadata": {},
   "outputs": [
    {
     "data": {
      "text/plain": [
       "<1000x1000 sparse matrix of type '<class 'numpy.float64'>'\n",
       "\twith 514087 stored elements in Compressed Sparse Row format>"
      ]
     },
     "execution_count": 27,
     "metadata": {},
     "output_type": "execute_result"
    }
   ],
   "source": [
    "pairwise_similarity"
   ]
  },
  {
   "cell_type": "code",
   "execution_count": 29,
   "metadata": {
    "collapsed": true
   },
   "outputs": [],
   "source": [
    "XD = pairwise_similarity.todense() #sparce to dense i.e empty to 0"
   ]
  },
  {
   "cell_type": "code",
   "execution_count": 32,
   "metadata": {},
   "outputs": [
    {
     "data": {
      "text/plain": [
       "<matplotlib.image.AxesImage at 0x1194b9588>"
      ]
     },
     "execution_count": 32,
     "metadata": {},
     "output_type": "execute_result"
    },
    {
     "data": {
      "image/png": "[encoded data removed]",
      "text/plain": [
       "<matplotlib.figure.Figure at 0x1193a0da0>"
      ]
     },
     "metadata": {},
     "output_type": "display_data"
    }
   ],
   "source": [
    "plt.figure(figsize=(12,12))\n",
    "plt.xlim(0,100)\n",
    "plt.ylim(0,100)\n",
    "plt.imshow(XD) \n",
    "# we can see a semetric matrix in the figure (mirror image)"
   ]
  },
  {
   "cell_type": "code",
   "execution_count": 35,
   "metadata": {
    "collapsed": true
   },
   "outputs": [],
   "source": [
    "from sklearn.preprocessing import Normalizer \n",
    "from sklearn import metrics\n",
    "\n",
    "from sklearn.cluster import KMeans, MiniBatchKMeans #KMean is used for clustering"
   ]
  },
  {
   "cell_type": "code",
   "execution_count": 36,
   "metadata": {
    "collapsed": true
   },
   "outputs": [],
   "source": [
    "true_k = 20"
   ]
  },
  {
   "cell_type": "code",
   "execution_count": 37,
   "metadata": {
    "collapsed": true
   },
   "outputs": [],
   "source": [
    "nn = Normalizer()\n",
    "XN = nn.fit_transform(XD)"
   ]
  },
  {
   "cell_type": "code",
   "execution_count": 38,
   "metadata": {
    "collapsed": true
   },
   "outputs": [],
   "source": [
    "km = KMeans(n_clusters=true_k, init='k-means++', max_iter=100, n_init=1,verbose=True)"
   ]
  },
  {
   "cell_type": "code",
   "execution_count": 39,
   "metadata": {},
   "outputs": [
    {
     "name": "stdout",
     "output_type": "stream",
     "text": [
      "Initialization complete\n",
      "start iteration\n",
      "done sorting\n",
      "end inner loop\n",
      "Iteration 0, inertia 651.339828565\n",
      "start iteration\n",
      "done sorting\n",
      "end inner loop\n",
      "Iteration 1, inertia 629.760568436\n",
      "start iteration\n",
      "done sorting\n",
      "end inner loop\n",
      "Iteration 2, inertia 623.685924718\n",
      "start iteration\n",
      "done sorting\n",
      "end inner loop\n",
      "Iteration 3, inertia 620.43200858\n",
      "start iteration\n",
      "done sorting\n",
      "end inner loop\n",
      "Iteration 4, inertia 618.668265968\n",
      "start iteration\n",
      "done sorting\n",
      "end inner loop\n",
      "Iteration 5, inertia 617.881368586\n",
      "start iteration\n",
      "done sorting\n",
      "end inner loop\n",
      "Iteration 6, inertia 617.505775602\n",
      "start iteration\n",
      "done sorting\n",
      "end inner loop\n",
      "Iteration 7, inertia 617.368813212\n",
      "start iteration\n",
      "done sorting\n",
      "end inner loop\n",
      "Iteration 8, inertia 617.051661589\n",
      "start iteration\n",
      "done sorting\n",
      "end inner loop\n",
      "Iteration 9, inertia 616.65727122\n",
      "start iteration\n",
      "done sorting\n",
      "end inner loop\n",
      "Iteration 10, inertia 616.209452003\n",
      "start iteration\n",
      "done sorting\n",
      "end inner loop\n",
      "Iteration 11, inertia 615.935700053\n",
      "start iteration\n",
      "done sorting\n",
      "end inner loop\n",
      "Iteration 12, inertia 615.854202582\n",
      "start iteration\n",
      "done sorting\n",
      "end inner loop\n",
      "Iteration 13, inertia 615.841632001\n",
      "start iteration\n",
      "done sorting\n",
      "end inner loop\n",
      "Iteration 14, inertia 615.841632001\n",
      "center shift 0.000000e+00 within tolerance 7.215595e-08\n"
     ]
    },
    {
     "data": {
      "text/plain": [
       "KMeans(algorithm='auto', copy_x=True, init='k-means++', max_iter=100,\n",
       "    n_clusters=20, n_init=1, n_jobs=1, precompute_distances='auto',\n",
       "    random_state=None, tol=0.0001, verbose=True)"
      ]
     },
     "execution_count": 39,
     "metadata": {},
     "output_type": "execute_result"
    }
   ],
   "source": [
    "km.fit(XN)"
   ]
  },
  {
   "cell_type": "code",
   "execution_count": 40,
   "metadata": {
    "collapsed": true
   },
   "outputs": [],
   "source": [
    "tws = list(corpus) \n",
    "clusters = {}\n",
    "idx = 0\n",
    "for t in km.labels_:\n",
    "    if(t in clusters):\n",
    "        clusters[t].append(tws[idx])\n",
    "    else:\n",
    "        clusters[t]= [tws[idx]]\n",
    "    idx += 1"
   ]
  },
  {
   "cell_type": "code",
   "execution_count": 41,
   "metadata": {},
   "outputs": [
    {
     "name": "stdout",
     "output_type": "stream",
     "text": [
      "4 76\n",
      "14 32\n",
      "15 176\n",
      "2 131\n",
      "8 57\n",
      "5 94\n",
      "16 30\n",
      "12 45\n",
      "3 192\n",
      "11 25\n",
      "9 33\n",
      "13 10\n",
      "19 21\n",
      "6 32\n",
      "7 13\n",
      "10 16\n",
      "1 12\n",
      "17 1\n",
      "0 2\n",
      "18 2\n"
     ]
    }
   ],
   "source": [
    "for k,v in clusters.items():\n",
    "    print(k,len(v))"
   ]
  },
  {
   "cell_type": "code",
   "execution_count": 43,
   "metadata": {},
   "outputs": [
    {
     "name": "stdout",
     "output_type": "stream",
     "text": [
      "\n",
      "I think that Mike Foligno was the captain of the Sabres when he\n",
      "got traded to the Leafs. Also, wasn't Rick Vaive the captain of\n",
      "the Leafs when he got traded to Chicago (with Steve Thomas for\n",
      "Ed Olcyzk and someone). Speaking of the Leafs, I believe that\n",
      "Darryl Sittler was their captain (he'd torn the \"C\" off his\n",
      "jersey but I think he re-claimed the captaincy later on) when he\n",
      "was traded to the Flyers.\n",
      "\n",
      "Oh yeah, of course, Gretzky was the captain of the Oilers before\n",
      "he was traded wasn't he? \n",
      "########\n",
      "\n",
      "Funny you should mention this; one time on HNIC Don Cherry pointed out\n",
      "Vanbiesbrouck's mask.  He _hated_ it.  I think he said something to the effect\n",
      "of:\n",
      "\"You see?  He was great last year; now he goes out and gets that dopey mask \n",
      "and he can't stop a beachball!\"\n",
      "\n",
      "You may or may not take Cherry seriously at all, but I cracked up when I heard\n",
      "it.\n",
      "########\n",
      "\n",
      "\n",
      "\n",
      "\n",
      "Easy Rider (harleys, drugs, rednecks, New Orleans), Mad Max (violence, DoD \n",
      "wanna-be's), Time Rider (Honda Thumper, Time travel), On Any Sunday \n",
      "(Documentary about dirtbike racers, GREAT!), The (Great?) Escape (Steve \n",
      "Mcqueen, Nazis), Rebel Without a Cause (James Dean, future DoD'ers).  I \n",
      "think the last two are right, they are OLD movies I haven't seen in YEARS. \n",
      " ----===== DoD #8177 = Technician(Dr. Speed) .NOT. Student =====----\n",
      "########\n",
      "\n",
      "\n",
      "\n",
      "Avery was the #2 overall pick by the Braves, behind Mark Lewis (I think) in\n",
      "1988.  John Smoltz came over to the Braves from the Tigers, but was developed\n",
      "by the Braves.  Jeff Blauser isn't a bad player.\n",
      "-- \n",
      "Dale J. Stephenson |*| (steph@cs.uiuc.edu) |*| Baseball fanatic\n",
      "########\n",
      "\n",
      "I think the problem here is that I pretty much ignored the part\n",
      "about the Jews sightseeing for 2000 years, thinking instead that\n",
      "the important part of what the original poster said was the bit\n",
      "about killing Palestinians.  In retrospect, I can see how the\n",
      "sightseeing thing would be offensive to many.  I originally saw\n",
      "it just as poetic license, but it's understandable that others\n",
      "might see it differently.  I still think that Ken came on a bit\n",
      "strong though.  I also think that your advice to Masud Khan:\n",
      "\n",
      "  #Before you argue with someone like Mr Arromdee, it's a good idea to\n",
      "  #do a little homework, or at least think.\n",
      "\n",
      "was unnecessary.\n",
      "\n",
      "\n",
      "Throughout all your articles in this thread there is the tacit\n",
      "assumption that the original poster was exhibiting casual\n",
      "anti-semitism.  If I agreed with that, then maybe your speech\n",
      "on why this is bad might have been relevant.  But I think you're\n",
      "reading a lot into one flip sentence.  While probably not\n",
      "true in this case, too often the charge of anti-semitism gets\n",
      "thrown around in order to stifle legitimate criticism of the\n",
      "state of Israel.\n",
      "\n",
      "Anyway, I'd rather be somewhere else, so I'm outta this thread.\n",
      "########\n",
      "****************************************************\n",
      "12) Management: BIG BIG ZERO. Sauer has yet to make a forceful agreement\n",
      "in favor of revenue sharing.\n",
      "******************************************************\n",
      "\n",
      "\n",
      "I meant argument instead of agreement.\n",
      "Also, I think I should add a coouple of Ted's positive achievements\n",
      "- Smiley trade was good for the pirates. but I think Ted could have gotten\n",
      "someone better than Neagle. Cummings seems to be pretty good.\n",
      "- The Cole trade was excellent. BUt Simmons has botched it up now.\n",
      "-This year's draft seems to have gone well for the PIrates. BUt then they\n",
      "lost 2 high picks in the Bonds fiasco.\n",
      "########\n",
      " \n",
      "\n",
      "I dunno, on my old GS1000E the tank-seat junction was nice and smooth.\n",
      "But if you were to travel all the way forward, you'd collect the top\n",
      "triple-clamp in a sensitive area. I'd hate to have to make the choice,\n",
      "but I think I'd prefer the FJ's gas tank. :-)\n",
      "########\n",
      "I believe it goes or will go:\n",
      "680060\n",
      "powerPC\n",
      "Pentium\n",
      "680040\n",
      "486\n",
      "680030\n",
      "386\n",
      "680020\n",
      "286=680000\n",
      "\n",
      "In a resent article in one of the macMags I think a 50mHz 030 accelerator was\n",
      " slightly slower than a 25mHz 040 accel. But, this is using a system designed\n",
      " for the 030. So, It stands to reason that a system designed for an 040 ie\n",
      " quadra) would do better. So overall I'd figure 040 = 030 * 2.5 or so.\n",
      "    Along the same lines the new POwerPC stuff is supposed to run the system\n",
      " at the level of a fast quadra, but system 8 or whatever will allow 3 times the\n",
      " speed of a 040 in the powerPC based systems. and wait for the 680060. I think\n",
      " it laps the pentium.\n",
      "\n",
      "pro-life pro-women\n",
      "\n",
      "\n",
      "########\n",
      "Davis will be paid by three clubs this year, I think the Phils are\n",
      "responsbible for about $600,000 or so.  They didn't wait for him to clear\n",
      "waivers as three other clubs were also very interested in him.  A gamble?\n",
      "Yes.\n",
      "\n",
      "Won the CY Young, too, for that year.\n",
      "########\n",
      "                                     ^^^^^^^^^^^^^^^^^^^^^^^^^^^^^^\n",
      "Wow! I knew Uranus is a long way off, but I didn't think it was THAT far away!\n",
      "\n",
      "########\n",
      "\n",
      "I think it is an ESDI controller if you need the doco i can help you.\n",
      "\n",
      "  Stefan\n",
      "\n",
      "########\n",
      "\n",
      "I've sent the article.  In terms of the group discussion, I wanted to point\n",
      "out that \"non-liberal education\" (head in the sand) is not the same as\n",
      "\"abstinence education\".\n",
      "\n",
      "We had \"non-liberal education\" regarding drugs when I was a kid in the 60's,\n",
      "which didn't do us a lot of good.  But \"abstinence education\" regarding\n",
      "drugs has proven effective, I think.\n",
      "\n",
      "########\n",
      "\n",
      "\n",
      "\n",
      "\n",
      "  When we take a hand off the bars we fall down!\n",
      "\n",
      "__\n",
      "   Jorg Klinger            |       GSXR1100        | If you only new who\n",
      "   Arch. & Eng. Services   |\"Lost Horizons\"  CR500 | I think I am. \n",
      "   UManitoba, Man. Ca.     |\"The Embalmer\"   IT175 |           - anonymous\n",
      "########\n",
      "\n",
      "\n",
      "\n",
      "  I beleive it's called the \"Dentabox\" frame. \n",
      "\n",
      "Nothing some putty and paint won't fix.\n",
      "\n",
      "__\n",
      "   Jorg Klinger            |       GSXR1100        | If you only new who\n",
      "   Arch. & Eng. Services   |\"Lost Horizons\"  CR500 | I think I am. \n",
      "   UManitoba, Man. Ca.     |\"The Embalmer\"   IT175 |           - anonymous\n",
      "########\n",
      "I think it would be a great idea to have a new group created:\n",
      "\n",
      "comp.sys.ibm.pc.flame.therapy\n",
      "########\n",
      "\n",
      "I believe the reason is that the lung diaphram gets too tired to pump\n",
      "the liquid in and out and simply stops breathing after 2-3 minutes.\n",
      "So if your in the vehicle ready to go they better not put you on \n",
      "hold, or else!! That's about it. Remember a liquid is several more times\n",
      "as dense as a gas by its very nature. ~10 I think, depending on the gas\n",
      "and liquid comparision of course!\n",
      "########\n",
      "\n",
      "\n",
      "I agree, I reckon it's television and the increase in fundamentalism.. You\n",
      "think its the increase in pre-marital sex... others thinks its because\n",
      "psychologists have taken over the criminal justice system and let violent\n",
      "criminals con them into letting them out into the streets... others think\n",
      "it's the increase in designer drugs... others think it's a communist plot.\n",
      "Basically the social interactions of all the changing factors in our society\n",
      "are far too complicated for us to control. We just have to hold on to the\n",
      "panic handles and hope that we are heading for a soft landing. But one\n",
      "things for sure, depression and the destruction of the nuclear family is not\n",
      "due solely to sex out of marriage.\n",
      "\n",
      "Jeff.\n",
      "\n",
      "########\n",
      "\n",
      "I'd be willing to make two wagers:\n",
      "1) Snow doesn't win ROY.\n",
      "2) Mattingly is out of baseball within five years.\n",
      "\n",
      "I'm skeptical of the first, because I don't think Snow is that good a\n",
      "player, and he is on a losing team.\n",
      "\n",
      "I'm skeptical of the second because of his back.  Mattingly is 32 this\n",
      "year, and how many players play until they are 40?  Not too many, and\n",
      "most of them didn't have chronic back problems when they were 32.\n",
      "\n",
      "Could be wrong on either or both, but I think that's the smart way to\n",
      "bet...\n",
      "########\n",
      "\n",
      "\n",
      "WRONG:  I don't think even PKP claims this one.  It is not unlawful to\n",
      "distribute code implementing RSA.  It appears to be unlawful to use it, so\n",
      "I agree with your last sentence.\n",
      "\n",
      "\n",
      "Yes, that's correct.\n",
      "########\n",
      "\n",
      "the fancy piggyback shocks on the 550 (and the 750, i think.  i don't\n",
      "know about the zr1100) are very nice, 3-way adjustability.  the forks\n",
      "are crappy, they dive like MAD.  i had progressive springs installed\n",
      "and it made a huge difference.  cheap fix, MUCH improvement.\n",
      "########\n",
      "I'd dump him.  Rude is rude and it seems he enjoys belittling and\n",
      "humiliating you.  But don't just dump him, write to him and tell\n",
      "him why you are firing him.  If you can, think about sending a copy\n",
      "of your letter to whoever is in charge of the clinic where he works, \n",
      "if applicable, or maybe even to the AMA.  Don't be vindictive in\n",
      "your letter, be truthful but VERY firm.\n",
      "\n",
      "But don't be a victim and just put up with it.  Take control!  It'll\n",
      "make you feel great!\n",
      "\n",
      "Nancy M.\n",
      "########\n",
      " \n",
      "You think that you all have it bad....here at good ol' Southwest Missouri\n",
      "State U., we have 2 parties running for student body president.  There's the\n",
      "token sorority/fraternity faces, and then there's the president and vice\n",
      "president of NORML.  They campaigned by handing out condoms and listing\n",
      "their qualifications as,\"I listen really well.\"  It makes me sick to have\n",
      "a party established on many of the things that are ruining this country like\n",
      "they are.  I think I'll run next year.:(\n",
      "########\n",
      "\n",
      "morgan and guzman will have era's 1 run higher than last year, and\n",
      " the cubs will be idiots and not pitch harkey as much as hibbard.\n",
      " castillo won't be good (i think he's a stud pitcher)\n",
      "########\n",
      "\n",
      "\n",
      "Considerably better than I feel about, say, the Punic Wars, or the \n",
      "Peloponnesian War (spelling optional), or almost any other event in \n",
      "classical history.  How close to the events do you think the oldest \n",
      "extent manuscripts are in those cases?\n",
      "\n",
      "########\n",
      "\n",
      "  Yup. I agree with ya. I think Devils can beat Red Wings easily. SO I think\n",
      "  all those who send in their votes should try all these diffrent teams\n",
      "  before voting. I think Islanders and Quebec are much better then I had\n",
      "  expected.\n",
      "\n",
      "  COBRA\n",
      "\n",
      "\n",
      "########\n",
      "\n",
      ": ... I think they should rename Waco TX to Wacko TX!\n",
      "########\n",
      "\n",
      "You said it worked so well with tobacco.  I was being fascisious(I can't spell \n",
      "worth a damn)\n",
      "\n",
      "Look, this is getting ridiculous, first, I think tobacco should be legal.  \n",
      "Anybody who can't see the difference between tobacco and marijuana has got to \n",
      "be high.\n",
      "########\n",
      "\n",
      "\n",
      "I think you would lose your money. Julius was actually rather tall\n",
      "for a Roman. He did go on record as favouring small soldiers though.\n",
      "Thought they were tougher and had more guts. He was probably right\n",
      "if you think about it. As for Napoleon remember that the French\n",
      "avergae was just about 5 feet and that height is relative! Did he\n",
      "really have a complex?\n",
      "\n",
      "ObSpace :  We have all seen the burning candle from High School that goes\n",
      "out and relights. If there is a large hot body placed in space but in an\n",
      "atmosphere, exactly how does it heat the surroundings? Diffusion only?\n",
      "\n",
      "Joseph Askew\n",
      "\n",
      "########\n",
      "\n",
      "Yo' Joe, why don't you post what you really think?\n",
      "\n",
      "If there are any rational BMWMOA folks left out there, may the rest of\n",
      "us please have a brief summary of the current state of affairs in your\n",
      "esteemed organization, together with an historical outline of how you\n",
      "got to the above contretemps?\n",
      "\n",
      "Points will be deducted for shouting or bulging veins in the temple area.\n",
      "########\n",
      "\n",
      "\n",
      "I don't think so at first,  but solid state offered  better reliabity,\n",
      "id bet,  and any lower costs would be only after the processes really scaled up.\n",
      "########\n",
      "On two separate occasions I saw Dick Allen (back when he was Richie)\n",
      "homer at Shea off the middle of the black centerfield hitter's\n",
      "background screen.  I think both shots would have traveled 500 feet.\n",
      "########\n",
      "\n",
      "You're right: Thomas, Gonzalez, Sheffield, and Griffey don't even begin\n",
      "to compare with Ripken, Boggs, and Gwynn, so no wonder Alomar gets so\n",
      "much attention.\n",
      "\n",
      "Sandberg got no attention his rookie year because his rookie year was\n",
      "terrible.  So was his sophomore year.\n",
      "\n",
      "National League pitchers are \"much better pitchers\"?  That certainly explains\n",
      "Sheffield's 1993, hm?  Are you confusing \"have ERA's that are 0.40 lower\n",
      "because they don't face DH's\" with \"much better\"?\n",
      "########\n",
      "\n",
      "I think he just wanted to get Henneman some work, because the \n",
      "Tigers had days off both the day before and the day after.\n",
      "########\n"
     ]
    }
   ],
   "source": [
    "for c in clusters[9]:\n",
    "    print(c)\n",
    "    print(\"########\")"
   ]
  },
  {
   "cell_type": "markdown",
   "metadata": {},
   "source": [
    "### how to get the optimal number of clusters ###"
   ]
  },
  {
   "cell_type": "markdown",
   "metadata": {},
   "source": [
    "** the Elbow method **"
   ]
  },
  {
   "cell_type": "code",
   "execution_count": 44,
   "metadata": {
    "collapsed": true
   },
   "outputs": [],
   "source": [
    "from sklearn.metrics import silhouette_samples, silhouette_score\n",
    "from scipy.spatial.distance import cdist"
   ]
  },
  {
   "cell_type": "code",
   "execution_count": 45,
   "metadata": {},
   "outputs": [
    {
     "name": "stdout",
     "output_type": "stream",
     "text": [
      "10\n",
      "20\n"
     ]
    }
   ],
   "source": [
    "scores = []\n",
    "distortions = []\n",
    "rng = range(2,30,1)\n",
    "for t in rng:\n",
    "    km = KMeans(n_clusters=t, init='k-means++', max_iter=100, n_init=1,verbose=False)\n",
    "    km.fit(XD)\n",
    "\n",
    "    distortions.append( km.inertia_ )\n",
    "    if(t%10 == 0):\n",
    "        print(t)"
   ]
  },
  {
   "cell_type": "code",
   "execution_count": 47,
   "metadata": {},
   "outputs": [
    {
     "data": {
      "text/plain": [
       "[<matplotlib.lines.Line2D at 0x1191f3320>]"
      ]
     },
     "execution_count": 47,
     "metadata": {},
     "output_type": "execute_result"
    },
    {
     "data": {
      "image/png": "[encoded data removed]",
      "text/plain": [
       "<matplotlib.figure.Figure at 0x1192283c8>"
      ]
     },
     "metadata": {},
     "output_type": "display_data"
    }
   ],
   "source": [
    "plt.figure(figsize=(12,12))\n",
    "plt.plot( rng,distortions,marker=\"o\") #the line is beding as an elbow (as pe the thmb rule), \n",
    "#we can count that and change the number of clusters"
   ]
  },
  {
   "cell_type": "markdown",
   "metadata": {
    "collapsed": true
   },
   "source": [
    "** considerations **\n",
    "\n",
    "Ideally the plot it will show a point where the slope changes, the point where there is a change is the \"elbow\" and this is the optimal point (if any) "
   ]
  },
  {
   "cell_type": "code",
   "execution_count": null,
   "metadata": {
    "collapsed": true
   },
   "outputs": [],
   "source": []
  }
 ],
 "metadata": {
  "kernelspec": {
   "display_name": "Python 3",
   "language": "python",
   "name": "python3"
  },
  "language_info": {
   "codemirror_mode": {
    "name": "ipython",
    "version": 3
   },
   "file_extension": ".py",
   "mimetype": "text/x-python",
   "name": "python",
   "nbconvert_exporter": "python",
   "pygments_lexer": "ipython3",
   "version": "3.6.1"
  }
 },
 "nbformat": 4,
 "nbformat_minor": 2
}
