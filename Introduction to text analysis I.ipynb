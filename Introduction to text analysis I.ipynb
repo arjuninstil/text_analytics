{
 "cells": [
  {
   "cell_type": "markdown",
   "metadata": {},
   "source": [
    "# Introduction to text analysis I"
   ]
  },
  {
   "cell_type": "markdown",
   "metadata": {},
   "source": [
    "In this short introduction we will study all the basics about string manipulation in python\n"
   ]
  },
  {
   "cell_type": "code",
   "execution_count": 17,
   "metadata": {
    "collapsed": true
   },
   "outputs": [],
   "source": [
    "s = \"This is a string\""
   ]
  },
  {
   "cell_type": "markdown",
   "metadata": {},
   "source": [
    "this is the length of a string (number of characters)"
   ]
  },
  {
   "cell_type": "code",
   "execution_count": 18,
   "metadata": {},
   "outputs": [
    {
     "name": "stdout",
     "output_type": "stream",
     "text": [
      "16\n"
     ]
    }
   ],
   "source": [
    "print(len(s))"
   ]
  },
  {
   "cell_type": "markdown",
   "metadata": {},
   "source": [
    "a string is a list"
   ]
  },
  {
   "cell_type": "code",
   "execution_count": 19,
   "metadata": {},
   "outputs": [
    {
     "name": "stdout",
     "output_type": "stream",
     "text": [
      "T\n",
      "h\n"
     ]
    }
   ],
   "source": [
    "print(s[0])\n",
    "print(s[1])"
   ]
  },
  {
   "cell_type": "markdown",
   "metadata": {},
   "source": [
    "list can be reversed"
   ]
  },
  {
   "cell_type": "code",
   "execution_count": 21,
   "metadata": {},
   "outputs": [
    {
     "name": "stdout",
     "output_type": "stream",
     "text": [
      "gnirts a si sihT\n"
     ]
    }
   ],
   "source": [
    "reversestring = s[::-1]\n",
    "print(reversestring)"
   ]
  },
  {
   "cell_type": "markdown",
   "metadata": {},
   "source": [
    "** basic operations **"
   ]
  },
  {
   "cell_type": "code",
   "execution_count": 12,
   "metadata": {},
   "outputs": [
    {
     "name": "stdout",
     "output_type": "stream",
     "text": [
      "THIS IS A STRING\n",
      "this is a string\n"
     ]
    }
   ],
   "source": [
    "uppercase = s.upper() ## uppercase\n",
    "lowercase = s.lower() ## lowercase\n",
    "\n",
    "print(uppercase)\n",
    "print(lowercase)"
   ]
  },
  {
   "cell_type": "code",
   "execution_count": 22,
   "metadata": {},
   "outputs": [
    {
     "name": "stdout",
     "output_type": "stream",
     "text": [
      "String to capitalize\n"
     ]
    }
   ],
   "source": [
    "s =  \"string to capitalize\"\n",
    "print(s.capitalize())"
   ]
  },
  {
   "cell_type": "markdown",
   "metadata": {},
   "source": [
    "** string placeholders **"
   ]
  },
  {
   "cell_type": "code",
   "execution_count": 3,
   "metadata": {},
   "outputs": [
    {
     "name": "stdout",
     "output_type": "stream",
     "text": [
      "aa\n",
      "This is a sring with placehoder: aa\n"
     ]
    }
   ],
   "source": [
    "v = \"aa\"\n",
    "s = \"This is a sring with placehoder: %s\"%(v)\n",
    "print(v)\n",
    "print(s)"
   ]
  },
  {
   "cell_type": "code",
   "execution_count": 4,
   "metadata": {},
   "outputs": [
    {
     "name": "stdout",
     "output_type": "stream",
     "text": [
      "aa bb\n",
      "This is a sring with two placehoders: aa, bb\n"
     ]
    }
   ],
   "source": [
    "v0 = \"aa\"\n",
    "v1 = \"bb\"\n",
    "s = \"This is a sring with two placehoders: %s, %s\"%(v0,v1)\n",
    "print(v0,v1)\n",
    "print(s)"
   ]
  },
  {
   "cell_type": "code",
   "execution_count": 28,
   "metadata": {},
   "outputs": [
    {
     "name": "stdout",
     "output_type": "stream",
     "text": [
      "16 bb\n",
      "This is a sring with two placehoders: 16, bb\n"
     ]
    }
   ],
   "source": [
    "v0 = 16\n",
    "v1 = \"bb\"\n",
    "s = \"This is a sring with two placehoders: %s, %s\"%(str(v0),v1) ## casting an integer\n",
    "print(v0,v1)\n",
    "print(s)"
   ]
  },
  {
   "cell_type": "markdown",
   "metadata": {},
   "source": [
    "# introduction to regular expressions"
   ]
  },
  {
   "cell_type": "markdown",
   "metadata": {},
   "source": [
    "Regular expressions are a specialized language to extract, save and substitute part of strings. The language of regular expression is universal in all languages"
   ]
  },
  {
   "cell_type": "code",
   "execution_count": 44,
   "metadata": {
    "collapsed": true
   },
   "outputs": [],
   "source": [
    "import re"
   ]
  },
  {
   "cell_type": "code",
   "execution_count": 45,
   "metadata": {
    "collapsed": true
   },
   "outputs": [],
   "source": [
    "csv = \"germany,30000$,80M\"\n"
   ]
  },
  {
   "cell_type": "code",
   "execution_count": 70,
   "metadata": {},
   "outputs": [
    {
     "name": "stdout",
     "output_type": "stream",
     "text": [
      ".*\\Wstrig.*\n"
     ]
    }
   ],
   "source": [
    "# matching some string\n",
    "\n",
    "s = \"This is a string\"\n",
    "contain = \"string\"\n",
    "\n",
    "#mm = \".*Th.*\"\n",
    "#mm = \".*%s.*\"%(contain)\n",
    "mm = \".*\\W%s.*\"%(contain)\n",
    "print(mm)\n",
    "\n",
    "if(re.match(mm,s)):\n",
    "    print(\"the string contains '%s'\"%(contain))"
   ]
  },
  {
   "cell_type": "markdown",
   "metadata": {},
   "source": [
    "** regular expression simple table **\n",
    "\n",
    "* . a character\n",
    "* .* any number of characters\n",
    "* .+ one or more characters\n",
    "* ^ the beginning of a string\n",
    "* $ the end of string\n",
    "* a{1} the character \"a\" exactly one time\n",
    "* a{1,3} the charachter \"a\" from one time to 3 times or more\n",
    "* a{1,3}? the character \"a\" from one time to 3 times but not more\n",
    "* [a-z] the characters from \"a\" to \"z\"\n",
    "* [A-Z] the characters from \"A\" to \"Z\"\n",
    "* [0-9] the numbers from 0 to 9\n",
    "* escaping special chars: \\\\( is \"(\"\n",
    "* \\\\b is the boundary of a word\n",
    "* \\\\w is a word (also a number)\n",
    "* \\\\d is a number\n",
    "* \\\\W is a word (not a number)\n",
    "* \\\\. is the way to write \".\"\n",
    "\n"
   ]
  },
  {
   "cell_type": "code",
   "execution_count": 11,
   "metadata": {},
   "outputs": [
    {
     "name": "stdout",
     "output_type": "stream",
     "text": [
      "the string contains 'is'\n"
     ]
    }
   ],
   "source": [
    "# matching some string\n",
    "\n",
    "s = \"This is aaaaa string\"\n",
    "contain = \"is\"\n",
    "if(re.match(\".*a{2,3}?.*\",s)):\n",
    "    print(\"the string contains '%s'\"%(contain))"
   ]
  },
  {
   "cell_type": "markdown",
   "metadata": {},
   "source": [
    "** searching and grouping **\n",
    "\n",
    "Sometimes you want to extract information from a string using the search/group strategy"
   ]
  },
  {
   "cell_type": "code",
   "execution_count": 44,
   "metadata": {},
   "outputs": [
    {
     "name": "stdout",
     "output_type": "stream",
     "text": [
      "b\n"
     ]
    }
   ],
   "source": [
    "x = \"a (b) c (d) e\"\n",
    "s = re.search(r\"\\((.*?)\\)\", x) # non greedy\n",
    "#s = re.search(r\"\\((.*)\\)\", x) # greedy\n",
    "b = s.group(1)\n",
    "print(b)"
   ]
  },
  {
   "cell_type": "code",
   "execution_count": 29,
   "metadata": {},
   "outputs": [
    {
     "name": "stdout",
     "output_type": "stream",
     "text": [
      "@mark\n",
      "mark@emailcom\n"
     ]
    }
   ],
   "source": [
    "a = \" My friend @mark email is mark@emailcom\" \n",
    "\n",
    "sp = a.split(\" \")\n",
    "#print(sp)\n",
    "\n",
    "work0 = []\n",
    "for s in sp:\n",
    "    if(re.match('.*@.*',s)):\n",
    "        print(s)\n",
    "        work0.append(s)"
   ]
  },
  {
   "cell_type": "code",
   "execution_count": 30,
   "metadata": {
    "collapsed": true
   },
   "outputs": [],
   "source": [
    "work0\n",
    "for w in work0:\n",
    "    if(re.match('^@.*',w)):\n",
    "        user = w\n",
    "    else:\n",
    "        email = w"
   ]
  },
  {
   "cell_type": "code",
   "execution_count": null,
   "metadata": {
    "collapsed": true
   },
   "outputs": [],
   "source": [
    "for t in text:\n",
    "    "
   ]
  },
  {
   "cell_type": "code",
   "execution_count": 31,
   "metadata": {},
   "outputs": [
    {
     "name": "stdout",
     "output_type": "stream",
     "text": [
      "@mark\n",
      "mark@emailcom\n"
     ]
    }
   ],
   "source": [
    "print(user)\n",
    "print(email)"
   ]
  },
  {
   "cell_type": "markdown",
   "metadata": {},
   "source": [
    "\n",
    "** how to validate and email **"
   ]
  },
  {
   "cell_type": "code",
   "execution_count": 21,
   "metadata": {},
   "outputs": [
    {
     "name": "stdout",
     "output_type": "stream",
     "text": [
      "Email: testmail@email.it\n"
     ]
    }
   ],
   "source": [
    "regex = r'\\b[\\w.-]+?@\\w+?\\.\\w+?\\b'\n",
    "email = \"testmail@email.it\"\n",
    "nonemail = \"testmail@ee\"\n",
    "\n",
    "if(re.match(regex,email)):\n",
    "    print(\"Email:\" , email)\n",
    "\n",
    "if(re.match(regex,nonemail)):\n",
    "    print(\"Email:\" , nonemail)\n"
   ]
  },
  {
   "cell_type": "code",
   "execution_count": 19,
   "metadata": {
    "collapsed": true
   },
   "outputs": [],
   "source": [
    "e = r\"\\b\""
   ]
  },
  {
   "cell_type": "markdown",
   "metadata": {},
   "source": [
    "** parts of a text **"
   ]
  },
  {
   "cell_type": "markdown",
   "metadata": {},
   "source": [
    "* This is a sentence.\n",
    "* This \".\" is a punctuation mark within double quoting \"\n",
    "* This '?' is a punctuation mark within single quoting\n"
   ]
  },
  {
   "cell_type": "markdown",
   "metadata": {},
   "source": [
    "## The character encodings"
   ]
  },
  {
   "cell_type": "markdown",
   "metadata": {},
   "source": [
    "![title](Syllabics-chart-with-sounds.jpg)"
   ]
  },
  {
   "cell_type": "markdown",
   "metadata": {},
   "source": [
    "** how to represent for a machine the Canadian Aboriginal syllabic alphabet ? **"
   ]
  },
  {
   "cell_type": "markdown",
   "metadata": {},
   "source": [
    "A character encoding tells the computer how to interpret raw zeroes and ones (that are the basic way of storing information in computers) into real characters. It usually does this by pairing numbers with characters. Words and sentences in text are created from characters and these characters are grouped into a character set."
   ]
  },
  {
   "cell_type": "markdown",
   "metadata": {},
   "source": [
    "The simplest and \"most old\" character set is the ** ASCII ** it has 127 symbols and no accents (suitable only for plain English)\n"
   ]
  },
  {
   "cell_type": "code",
   "execution_count": 48,
   "metadata": {
    "collapsed": true
   },
   "outputs": [],
   "source": [
    "c = [chr(i) for i in range(127)]"
   ]
  },
  {
   "cell_type": "markdown",
   "metadata": {},
   "source": [
    "This is the basic list of 127 characters"
   ]
  },
  {
   "cell_type": "code",
   "execution_count": 50,
   "metadata": {},
   "outputs": [
    {
     "name": "stdout",
     "output_type": "stream",
     "text": [
      "\u0000 \u0001 \u0002 \u0003 \u0004 \u0005 \u0006 \u0007 \b \t \n",
      "\n",
      " \u000b",
      " \f",
      " \r",
      " \u000e \u000f \u0010 \u0011 \u0012 \u0013 \n",
      "\u0014 \u0015 \u0016 \u0017 \u0018 \u0019 \u001a \u001b \u001c",
      " \u001d",
      " \n",
      "\u001e",
      " \u001f   ! \" # $ % & ' \n",
      "( ) * + , - . / 0 1 \n",
      "2 3 4 5 6 7 8 9 : ; \n",
      "< = > ? @ A B C D E \n",
      "F G H I J K L M N O \n",
      "P Q R S T U V W X Y \n",
      "Z [ \\ ] ^ _ ` a b c \n",
      "d e f g h i j k l m \n",
      "n o p q r s t u v w \n"
     ]
    }
   ],
   "source": [
    "j = 1su\n",
    "cm = \"\"\n",
    "for cc in c:\n",
    "    cm += cc + \" \"\n",
    "    if(j%10 == 0):\n",
    "        print(cm)\n",
    "        cm = \"\"\n",
    "    j += 1"
   ]
  },
  {
   "cell_type": "markdown",
   "metadata": {},
   "source": [
    "** other encodings **\n",
    "\n",
    "The iso-8859-1 is a standard for European languages and represents a character encoding that is able to manage all the needs of the European languanges writter in latin letters. It is typical of the old Windows documents (i.e. documents created with old Word/Excel doc )"
   ]
  },
  {
   "cell_type": "markdown",
   "metadata": {},
   "source": [
    "** Universal Coded Character Set (UCS)  ** \n",
    "It's a super set of characters mapping more than 136.000 characters from all around the world to unique codes (numbers). Its representation on the machine is called ** Unicode ** and the representation is called UTF-x where x is for instance 8. UTF-8 is a modern and safe representation of the vast majority of symbols and alphabets of the world."
   ]
  },
  {
   "cell_type": "markdown",
   "metadata": {},
   "source": [
    "Python3 is absolutely safe in the management of UTF-8, while Python2 sometimes requires the usage of specialized modules (*codecs*)"
   ]
  },
  {
   "cell_type": "markdown",
   "metadata": {},
   "source": [
    "** examples in UTF-8 **"
   ]
  },
  {
   "cell_type": "markdown",
   "metadata": {},
   "source": [
    "Let's try to define unicode strings (accents)"
   ]
  },
  {
   "cell_type": "code",
   "execution_count": 32,
   "metadata": {
    "collapsed": true
   },
   "outputs": [],
   "source": [
    "s = \"This is a unicode string in a simple resumé\""
   ]
  },
  {
   "cell_type": "code",
   "execution_count": 33,
   "metadata": {},
   "outputs": [
    {
     "name": "stdout",
     "output_type": "stream",
     "text": [
      "This is a unicode string in a simple resumé\n"
     ]
    }
   ],
   "source": [
    "print(s)"
   ]
  },
  {
   "cell_type": "code",
   "execution_count": 34,
   "metadata": {},
   "outputs": [
    {
     "name": "stdout",
     "output_type": "stream",
     "text": [
      "<class 'str'>\n"
     ]
    }
   ],
   "source": [
    "print(type(s))"
   ]
  },
  {
   "cell_type": "markdown",
   "metadata": {},
   "source": [
    "** Forcing and changing the encodings **\n",
    "\n",
    "In Python (and other languages) it is possible to define or *force* the encodings. The operation transforms a string to a bytes variable (utf-8 is a byte object) and vice versa. The operation of changing the character set is called *enconding* while the opposite *decoding*."
   ]
  },
  {
   "cell_type": "code",
   "execution_count": 66,
   "metadata": {
    "collapsed": true
   },
   "outputs": [],
   "source": [
    "s = \"This is a unicode string in a simple resumé\" # string"
   ]
  },
  {
   "cell_type": "markdown",
   "metadata": {},
   "source": [
    "** encoding **"
   ]
  },
  {
   "cell_type": "code",
   "execution_count": 67,
   "metadata": {
    "collapsed": true
   },
   "outputs": [],
   "source": [
    "su = s.encode('utf-8')"
   ]
  },
  {
   "cell_type": "code",
   "execution_count": 62,
   "metadata": {},
   "outputs": [
    {
     "name": "stdout",
     "output_type": "stream",
     "text": [
      "<class 'bytes'>\n"
     ]
    }
   ],
   "source": [
    "print(type(su))"
   ]
  },
  {
   "cell_type": "code",
   "execution_count": 69,
   "metadata": {},
   "outputs": [
    {
     "name": "stdout",
     "output_type": "stream",
     "text": [
      "b'This is a unicode string in a simple resum\\xc3\\xa9'\n"
     ]
    }
   ],
   "source": [
    "print(su) ## notice how the non ascii characters were transformed in bytes"
   ]
  },
  {
   "cell_type": "markdown",
   "metadata": {},
   "source": [
    "** decoding **"
   ]
  },
  {
   "cell_type": "code",
   "execution_count": 64,
   "metadata": {
    "collapsed": true
   },
   "outputs": [],
   "source": [
    "decode = su.decode('utf-8')"
   ]
  },
  {
   "cell_type": "code",
   "execution_count": 65,
   "metadata": {},
   "outputs": [
    {
     "name": "stdout",
     "output_type": "stream",
     "text": [
      "This is a unicode string in a simple resumé\n"
     ]
    }
   ],
   "source": [
    "print(decode)"
   ]
  },
  {
   "cell_type": "markdown",
   "metadata": {
    "collapsed": true
   },
   "source": [
    "** detecting the encoding of a file **"
   ]
  },
  {
   "cell_type": "code",
   "execution_count": 71,
   "metadata": {},
   "outputs": [
    {
     "ename": "UnicodeDecodeError",
     "evalue": "'utf-8' codec can't decode byte 0xa0 in position 202: invalid start byte",
     "output_type": "error",
     "traceback": [
      "\u001b[0;31m---------------------------------------------------------------------------\u001b[0m",
      "\u001b[0;31mUnicodeDecodeError\u001b[0m                        Traceback (most recent call last)",
      "\u001b[0;32m<ipython-input-71-41771c15583e>\u001b[0m in \u001b[0;36m<module>\u001b[0;34m()\u001b[0m\n\u001b[1;32m      2\u001b[0m \u001b[0;34m\u001b[0m\u001b[0m\n\u001b[1;32m      3\u001b[0m \u001b[0mop\u001b[0m \u001b[0;34m=\u001b[0m \u001b[0mopen\u001b[0m\u001b[0;34m(\u001b[0m\u001b[0;34m'inaug_speeches.csv'\u001b[0m\u001b[0;34m)\u001b[0m\u001b[0;34m\u001b[0m\u001b[0m\n\u001b[0;32m----> 4\u001b[0;31m \u001b[0mtxt\u001b[0m \u001b[0;34m=\u001b[0m \u001b[0mop\u001b[0m\u001b[0;34m.\u001b[0m\u001b[0mread\u001b[0m\u001b[0;34m(\u001b[0m\u001b[0;34m)\u001b[0m\u001b[0;34m\u001b[0m\u001b[0m\n\u001b[0m",
      "\u001b[0;32m/usr/lib/python3.5/codecs.py\u001b[0m in \u001b[0;36mdecode\u001b[0;34m(self, input, final)\u001b[0m\n\u001b[1;32m    319\u001b[0m         \u001b[0;31m# decode input (taking the buffer into account)\u001b[0m\u001b[0;34m\u001b[0m\u001b[0;34m\u001b[0m\u001b[0m\n\u001b[1;32m    320\u001b[0m         \u001b[0mdata\u001b[0m \u001b[0;34m=\u001b[0m \u001b[0mself\u001b[0m\u001b[0;34m.\u001b[0m\u001b[0mbuffer\u001b[0m \u001b[0;34m+\u001b[0m \u001b[0minput\u001b[0m\u001b[0;34m\u001b[0m\u001b[0m\n\u001b[0;32m--> 321\u001b[0;31m         \u001b[0;34m(\u001b[0m\u001b[0mresult\u001b[0m\u001b[0;34m,\u001b[0m \u001b[0mconsumed\u001b[0m\u001b[0;34m)\u001b[0m \u001b[0;34m=\u001b[0m \u001b[0mself\u001b[0m\u001b[0;34m.\u001b[0m\u001b[0m_buffer_decode\u001b[0m\u001b[0;34m(\u001b[0m\u001b[0mdata\u001b[0m\u001b[0;34m,\u001b[0m \u001b[0mself\u001b[0m\u001b[0;34m.\u001b[0m\u001b[0merrors\u001b[0m\u001b[0;34m,\u001b[0m \u001b[0mfinal\u001b[0m\u001b[0;34m)\u001b[0m\u001b[0;34m\u001b[0m\u001b[0m\n\u001b[0m\u001b[1;32m    322\u001b[0m         \u001b[0;31m# keep undecoded input until the next call\u001b[0m\u001b[0;34m\u001b[0m\u001b[0;34m\u001b[0m\u001b[0m\n\u001b[1;32m    323\u001b[0m         \u001b[0mself\u001b[0m\u001b[0;34m.\u001b[0m\u001b[0mbuffer\u001b[0m \u001b[0;34m=\u001b[0m \u001b[0mdata\u001b[0m\u001b[0;34m[\u001b[0m\u001b[0mconsumed\u001b[0m\u001b[0;34m:\u001b[0m\u001b[0;34m]\u001b[0m\u001b[0;34m\u001b[0m\u001b[0m\n",
      "\u001b[0;31mUnicodeDecodeError\u001b[0m: 'utf-8' codec can't decode byte 0xa0 in position 202: invalid start byte"
     ]
    }
   ],
   "source": [
    "import chardet ## this make the guessing\n",
    "\n",
    "op = open('inaug_speeches.csv')\n",
    "txt = op.read()"
   ]
  },
  {
   "cell_type": "markdown",
   "metadata": {},
   "source": [
    "The error above depends from the python interpreter trying to use the default \"utf-8\" codec. If we read the file in bynary format we avoid problems and we can after guess the encodings "
   ]
  },
  {
   "cell_type": "code",
   "execution_count": 72,
   "metadata": {
    "collapsed": true
   },
   "outputs": [],
   "source": [
    "op.close()\n",
    "op = open('inaug_speeches.csv',\"rb\") ## read in binary mode\n",
    "txt = op.read()"
   ]
  },
  {
   "cell_type": "code",
   "execution_count": 73,
   "metadata": {
    "collapsed": true
   },
   "outputs": [],
   "source": [
    "## now try to guess the encodings:\n",
    "\n",
    "enc = chardet.detect(txt) ## beware can be slow !"
   ]
  },
  {
   "cell_type": "code",
   "execution_count": 74,
   "metadata": {},
   "outputs": [
    {
     "name": "stdout",
     "output_type": "stream",
     "text": [
      "{'encoding': 'ISO-8859-2', 'confidence': 0.8890221735457744}\n"
     ]
    }
   ],
   "source": [
    "print(enc)"
   ]
  },
  {
   "cell_type": "code",
   "execution_count": 76,
   "metadata": {
    "collapsed": true
   },
   "outputs": [],
   "source": [
    "## correct way to open with the encoding ? ##\n",
    "\n",
    "op.close()\n",
    "\n",
    "import codecs\n",
    "\n",
    "op = codecs.open('inaug_speeches.csv','r','ISO-8859-2')\n",
    "txt = op.read()"
   ]
  },
  {
   "cell_type": "code",
   "execution_count": 82,
   "metadata": {},
   "outputs": [
    {
     "name": "stdout",
     "output_type": "stream",
     "text": [
      "\"\",\"Name\",\"Inaugural Address\",\"Date\",\"text\"\r\n",
      "\"4\",\"George Washington\",\"First Inaugural Address\",\"Thursday, April 30, 1789\",\"           Fellow-Citizens of the Senate and of the House of Representatives:    AMONG the vicissitudes incident to life no event could have filled me with greater anxieties than that of which the notification was transmitted by your order, and received on the   th day of the present month. On the one hand, I was summoned by my country, whose voice I can never hear but with veneration and love, from a retreat which I had chosen with the fondest predilection, and, in my flattering hopes, with an immutable decision, as the asylum of my declining years<U+0097>a retreat which was rendered every day more necessary as well as more dear to me by the addition of habit to inclination, and of frequent interruptions in my health to the gradual waste committed on it by time. On the other hand, the magnitude and difficulty of the trust to which the voice of my country called me\n"
     ]
    }
   ],
   "source": [
    "print(txt[0:1000])"
   ]
  },
  {
   "cell_type": "code",
   "execution_count": null,
   "metadata": {
    "collapsed": true
   },
   "outputs": [],
   "source": []
  }
 ],
 "metadata": {
  "kernelspec": {
   "display_name": "Python 3",
   "language": "python",
   "name": "python3"
  },
  "language_info": {
   "codemirror_mode": {
    "name": "ipython",
    "version": 3
   },
   "file_extension": ".py",
   "mimetype": "text/x-python",
   "name": "python",
   "nbconvert_exporter": "python",
   "pygments_lexer": "ipython3",
   "version": "3.6.1"
  }
 },
 "nbformat": 4,
 "nbformat_minor": 2
}
